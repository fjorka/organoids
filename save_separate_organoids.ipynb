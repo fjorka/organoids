{
 "cells": [
  {
   "cell_type": "code",
   "execution_count": 36,
   "metadata": {},
   "outputs": [],
   "source": [
    "import os\n",
    "import numpy as np\n",
    "from tifffile import imwrite, imread\n",
    "import napari\n",
    "import pickle"
   ]
  },
  {
   "cell_type": "markdown",
   "metadata": {},
   "source": [
    "### Pathways"
   ]
  },
  {
   "cell_type": "code",
   "execution_count": 65,
   "metadata": {},
   "outputs": [],
   "source": [
    "dir_movies  = r'D:\\data_analysis\\2024_Aidan_organoids\\movies'\n",
    "movie_name = 'B3 Region1_Merged'\n",
    "channels = [0,1]\n",
    "channel_colors = ['gray','red'] # has to match the number of channels\n",
    "contrast_limits = [[0, 100], [0, 200]] # has to match the number of channels\n",
    "\n",
    "dir_save = r'D:\\data_analysis\\2024_Aidan_organoids\\cut_organoids_movies'\n",
    "\n",
    "USE_SMALL = True\n",
    "SMALL_FACTOR = 4\n",
    "\n",
    "BIT_DEPTH = np.uint16"
   ]
  },
  {
   "cell_type": "markdown",
   "metadata": {},
   "source": [
    "### Load and display movies"
   ]
  },
  {
   "cell_type": "code",
   "execution_count": 67,
   "metadata": {},
   "outputs": [
    {
     "data": {
      "text/plain": [
       "<Shapes layer 'Shapes' at 0x1fe1c6435b0>"
      ]
     },
     "execution_count": 67,
     "metadata": {},
     "output_type": "execute_result"
    }
   ],
   "source": [
    "viewer = napari.Viewer()\n",
    "\n",
    "for ch,ch_color,contr in zip(channels,channel_colors, contrast_limits):\n",
    "\n",
    "    if USE_SMALL == True:\n",
    "        channel_path = os.path.join(dir_movies, movie_name + f'_ch_{str(ch).zfill(2)}_small.tif')\n",
    "    else:\n",
    "        channel_path = os.path.join(dir_movies, movie_name + f'_ch_{str(ch).zfill(2)}.tif')\n",
    "\n",
    "    temp = imread(channel_path)\n",
    "    viewer.add_image(temp, name=f'ch{ch}', colormap=ch_color, blending = 'additive', contrast_limits=contr)\n",
    "\n",
    "viewer.add_shapes()"
   ]
  },
  {
   "cell_type": "markdown",
   "metadata": {},
   "source": [
    "###################################################\n",
    "## Manual part - mark all organoids with rectangles\n",
    "###################################################"
   ]
  },
  {
   "cell_type": "markdown",
   "metadata": {},
   "source": [
    "### Save individual movies"
   ]
  },
  {
   "cell_type": "code",
   "execution_count": 72,
   "metadata": {},
   "outputs": [],
   "source": [
    "# save positions of the organoids\n",
    "shapes_layer = viewer.layers['Shapes']\n",
    "\n",
    "shapes_path = os.path.join(dir_save, movie_name + '_shapes.pkl')\n",
    "with open(shapes_path, 'wb') as file:\n",
    "    pickle.dump(shapes_layer.data, file)\n",
    "\n",
    "# create and save visualization of the organoids positions\n",
    "shapes_layer.opacity = 0.7\n",
    "\n",
    "shapes_layer.text = {\n",
    "    'string': [f'Organoid {i}' for i in range(len(shapes_layer.data))],\n",
    "    'size': 12,\n",
    "    'color': 'black',\n",
    "    'anchor': 'center',\n",
    "}\n",
    "\n",
    "visual_path = os.path.join(dir_save, movie_name + '_shapes_visual.png')\n",
    "viewer.reset_view()\n",
    "screenshot = viewer.screenshot(visual_path)\n",
    "\n",
    "# save individual movies\n",
    "for ch,ch_color,contr in zip(channels,channel_colors, contrast_limits):\n",
    "\n",
    "    channel_path = os.path.join(dir_movies, movie_name + f'_ch_{str(ch).zfill(2)}.tif')\n",
    "\n",
    "    temp = imread(channel_path)\n",
    "\n",
    "    for ind,rect in enumerate(shapes_layer.data):\n",
    "         \n",
    "        if USE_SMALL == False:\n",
    "             SMALL_FACTOR = 1\n",
    "\n",
    "        # rescale position data\n",
    "        rect = (rect * SMALL_FACTOR).astype(int)\n",
    "\n",
    "        # cut out the organoid\n",
    "        org_ch = temp[:,np.min(rect[:,0]):np.max(rect[:,0]), np.min(rect[:,1]):np.max(rect[:,1])]\n",
    "                      \n",
    "        # save the organoid\n",
    "        save_path = os.path.join(dir_save, movie_name + f'_ch_{str(ch).zfill(2)}_organoid_{str(ind).zfill(2)}.tif')\n",
    "        imwrite(save_path, org_ch.astype(BIT_DEPTH))\n"
   ]
  },
  {
   "cell_type": "code",
   "execution_count": 71,
   "metadata": {},
   "outputs": [
    {
     "data": {
      "text/plain": [
       "array([[7116, 1512],\n",
       "       [7116,  950],\n",
       "       [6545,  950],\n",
       "       [6545, 1512]])"
      ]
     },
     "execution_count": 71,
     "metadata": {},
     "output_type": "execute_result"
    }
   ],
   "source": [
    "rect"
   ]
  },
  {
   "cell_type": "code",
   "execution_count": 49,
   "metadata": {},
   "outputs": [
    {
     "data": {
      "text/plain": [
       "-884"
      ]
     },
     "execution_count": 49,
     "metadata": {},
     "output_type": "execute_result"
    }
   ],
   "source": [
    "np.min(rect[:,0])"
   ]
  },
  {
   "cell_type": "code",
   "execution_count": 59,
   "metadata": {},
   "outputs": [
    {
     "data": {
      "text/plain": [
       "array([[4686, 3236],\n",
       "       [4686, 3839],\n",
       "       [5314, 3839],\n",
       "       [5314, 3236]])"
      ]
     },
     "execution_count": 59,
     "metadata": {},
     "output_type": "execute_result"
    }
   ],
   "source": [
    "rect = shapes_layer.data[0]\n",
    "rect = (rect * SMALL_FACTOR).astype(int)\n",
    "rect"
   ]
  },
  {
   "cell_type": "code",
   "execution_count": 33,
   "metadata": {},
   "outputs": [],
   "source": [
    "shapes_layer.opacity = 1"
   ]
  },
  {
   "cell_type": "code",
   "execution_count": 32,
   "metadata": {},
   "outputs": [],
   "source": [
    "shapes_layer.text = {\n",
    "    'string': [f'Organoid {i}' for i in range(len(shapes_layer.data))],\n",
    "    'size': 12,\n",
    "    'color': 'black',\n",
    "    'anchor': 'center',\n",
    "}\n",
    "\n",
    "viewer.screenshot(os.path.join(dir_save,file.replace('.nd2','_fibronectin.tif')))"
   ]
  },
  {
   "cell_type": "code",
   "execution_count": 17,
   "metadata": {},
   "outputs": [],
   "source": [
    "test = imread(channel_path)"
   ]
  },
  {
   "cell_type": "code",
   "execution_count": 18,
   "metadata": {},
   "outputs": [
    {
     "data": {
      "text/plain": [
       "<Image layer 'test' at 0x1fda9e9a4a0>"
      ]
     },
     "execution_count": 18,
     "metadata": {},
     "output_type": "execute_result"
    }
   ],
   "source": [
    "viewer = napari.Viewer()\n",
    "viewer.add_image(test)"
   ]
  },
  {
   "cell_type": "code",
   "execution_count": 19,
   "metadata": {},
   "outputs": [],
   "source": [
    "save_path_small = r'D:\\data_analysis\\2024_Aidan_organoids\\movies\\B3 Region1_Merged_ch_00_small.tif'\n",
    "SMALL_FACTOR = 4\n",
    "imwrite(save_path_small, test[:,::SMALL_FACTOR,::SMALL_FACTOR], imagej=True)"
   ]
  },
  {
   "cell_type": "code",
   "execution_count": null,
   "metadata": {},
   "outputs": [],
   "source": []
  }
 ],
 "metadata": {
  "kernelspec": {
   "display_name": "napari-env",
   "language": "python",
   "name": "python3"
  },
  "language_info": {
   "codemirror_mode": {
    "name": "ipython",
    "version": 3
   },
   "file_extension": ".py",
   "mimetype": "text/x-python",
   "name": "python",
   "nbconvert_exporter": "python",
   "pygments_lexer": "ipython3",
   "version": "3.10.14"
  }
 },
 "nbformat": 4,
 "nbformat_minor": 2
}
