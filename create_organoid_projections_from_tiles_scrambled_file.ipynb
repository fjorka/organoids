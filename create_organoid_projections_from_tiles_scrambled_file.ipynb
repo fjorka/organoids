{
 "cells": [
  {
   "cell_type": "code",
   "execution_count": 1,
   "metadata": {},
   "outputs": [],
   "source": [
    "from readlif.reader import LifFile\n",
    "import os\n",
    "import numpy as np\n",
    "from tifffile import imwrite\n",
    "import napari"
   ]
  },
  {
   "cell_type": "markdown",
   "metadata": {},
   "source": [
    "### Pathways"
   ]
  },
  {
   "cell_type": "code",
   "execution_count": 2,
   "metadata": {},
   "outputs": [],
   "source": [
    "# lif file with organoid movies\n",
    "file_path  = r'R:\\Aidan\\ULA_timecourse_ARC_006.lif'\n",
    "\n",
    "# temporary output file\n",
    "dir_save = r'R:\\Aidan\\ULA_timecourse_ARC_006_temp'\n",
    "os.makedirs(dir_save, exist_ok=True)\n",
    "\n",
    "# choose bit depth for saving the tiff files\n",
    "BIT_DEPTH = np.uint16"
   ]
  },
  {
   "cell_type": "markdown",
   "metadata": {},
   "source": [
    "### Look inside the file"
   ]
  },
  {
   "cell_type": "code",
   "execution_count": 3,
   "metadata": {},
   "outputs": [
    {
     "data": {
      "text/plain": [
       "[(0, 'TileScan 1/C/0944P', Dims(x=2048, y=2048, z=12, t=28, m=25), 2),\n",
       " (1, 'TileScan 1/C/1340P', Dims(x=2048, y=2048, z=12, t=28, m=25), 2),\n",
       " (2, 'TileScan 1/C/1341P', Dims(x=2048, y=2048, z=12, t=28, m=25), 2),\n",
       " (3, 'TileScan 1/C/0944P_Merged', Dims(x=10080, y=10187, z=12, t=28, m=1), 2),\n",
       " (4, 'TileScan 1/D/0944S', Dims(x=2048, y=2048, z=12, t=28, m=25), 2),\n",
       " (5, 'TileScan 1/D/1340S', Dims(x=2048, y=2048, z=12, t=28, m=25), 2),\n",
       " (6, 'TileScan 1/D/1341S', Dims(x=2048, y=2048, z=12, t=28, m=25), 2)]"
      ]
     },
     "execution_count": 3,
     "metadata": {},
     "output_type": "execute_result"
    }
   ],
   "source": [
    "lif_file = LifFile(file_path)\n",
    "\n",
    "im_list = [(ind,x['name'],x['dims'], x['channels']) for ind,x in enumerate(lif_file.image_list)]\n",
    "im_list"
   ]
  },
  {
   "cell_type": "code",
   "execution_count": 4,
   "metadata": {},
   "outputs": [],
   "source": [
    "########################################################################################\n",
    "# specify which part of the name will be used for naming the tiles\n",
    "# this part should be unique\n",
    "########################################################################################\n",
    "\n",
    "NAME_PARTS = [2]"
   ]
  },
  {
   "cell_type": "markdown",
   "metadata": {},
   "source": [
    "### Specify files to process"
   ]
  },
  {
   "cell_type": "code",
   "execution_count": 7,
   "metadata": {},
   "outputs": [
    {
     "data": {
      "text/plain": [
       "['LifImage object with dimensions: Dims(x=2048, y=2048, z=12, t=28, m=25)']"
      ]
     },
     "execution_count": 7,
     "metadata": {},
     "output_type": "execute_result"
    }
   ],
   "source": [
    "#########################################################################################\n",
    "# to process all available images\n",
    "#########################################################################################\n",
    "sel_ind = range(len(im_list)) # for all available images\n",
    "\n",
    "\n",
    "#########################################################################################\n",
    "# uncomment and change im_list if you want to run only on selected images\n",
    "#########################################################################################\n",
    "#sel_ind = [0,1,2,4,5,6] # for selected images\n",
    "\n",
    "im_list_sel = [lif_file.get_image(ind) for ind in sel_ind]\n",
    "im_list_sel"
   ]
  },
  {
   "cell_type": "markdown",
   "metadata": {},
   "source": [
    "### Checks of the data"
   ]
  },
  {
   "cell_type": "code",
   "execution_count": 8,
   "metadata": {},
   "outputs": [
    {
     "name": "stdout",
     "output_type": "stream",
     "text": [
      "TileScan 1/C/0944P of dimensions Dims(x=2048, y=2048, z=12, t=28, m=25) appear to be a square.\n",
      "These tiles will be saved as 0944P\n",
      "All names are unique.\n"
     ]
    }
   ],
   "source": [
    "im_tile_list = []\n",
    "\n",
    "for im in im_list_sel:\n",
    "\n",
    "    if not int(np.sqrt(im.dims.m)) == np.sqrt(im.dims.m):\n",
    "        print(f'{im.name} is not a full matrix, you need to add missing tiles.')\n",
    "    else:\n",
    "        print(f'{im.name} of dimensions {im.dims} appear to be a square.')\n",
    "\n",
    "    im_tile = '_'.join(im.name.split('/')[i] for i in NAME_PARTS)\n",
    "    im_tile_list.append(im_tile)\n",
    "    print(f\"These tiles will be saved as {im_tile}\")\n",
    "\n",
    "if len(im_tile_list) == len(set(im_tile_list)):\n",
    "\n",
    "    print(f'All names are unique.')\n",
    "\n",
    "else:\n",
    "\n",
    "    print(f'Names are not unique - correct!')"
   ]
  },
  {
   "cell_type": "markdown",
   "metadata": {},
   "source": [
    "### Process images"
   ]
  },
  {
   "cell_type": "code",
   "execution_count": 9,
   "metadata": {},
   "outputs": [],
   "source": [
    "# specify missing tiles if a matrix is not square\n",
    "# ex. if m=21 then additional_frames = [2,17,20]\n",
    "# if a matrix is square leave additional_frames = []\n",
    "\n",
    "additional_frames = []"
   ]
  },
  {
   "cell_type": "code",
   "execution_count": 10,
   "metadata": {},
   "outputs": [
    {
     "name": "stdout",
     "output_type": "stream",
     "text": [
      "Processing image: TileScan 1/C/0944P\n",
      "Processing channel: 0\n",
      "Processing frame: 0\n",
      "Processing frame: 1\n",
      "Processing frame: 2\n",
      "Processing frame: 3\n",
      "Processing frame: 4\n",
      "Processing frame: 5\n",
      "Processing frame: 6\n",
      "Processing frame: 7\n",
      "Processing frame: 8\n",
      "Processing frame: 9\n",
      "Processing frame: 10\n",
      "Processing frame: 11\n",
      "Processing frame: 12\n",
      "Processing frame: 13\n",
      "Processing frame: 14\n",
      "Processing frame: 15\n",
      "Processing frame: 16\n",
      "Processing frame: 17\n",
      "Processing frame: 18\n",
      "Processing frame: 19\n",
      "Processing frame: 20\n",
      "Processing frame: 21\n",
      "Processing frame: 22\n",
      "Processing frame: 23\n",
      "Processing frame: 24\n",
      "Processing frame: 25\n",
      "Processing frame: 26\n",
      "Processing frame: 27\n",
      "Processing channel: 1\n",
      "Processing frame: 0\n",
      "Processing frame: 1\n",
      "Processing frame: 2\n",
      "Processing frame: 3\n",
      "Processing frame: 4\n",
      "Processing frame: 5\n",
      "Processing frame: 6\n",
      "Processing frame: 7\n",
      "Processing frame: 8\n",
      "Processing frame: 9\n",
      "Processing frame: 10\n",
      "Processing frame: 11\n",
      "Processing frame: 12\n",
      "Processing frame: 13\n",
      "Processing frame: 14\n",
      "Processing frame: 15\n",
      "Processing frame: 16\n",
      "Processing frame: 17\n",
      "Processing frame: 18\n",
      "Processing frame: 19\n",
      "Processing frame: 20\n",
      "Processing frame: 21\n",
      "Processing frame: 22\n",
      "Processing frame: 23\n",
      "Processing frame: 24\n",
      "Processing frame: 25\n",
      "Processing frame: 26\n",
      "Processing frame: 27\n"
     ]
    }
   ],
   "source": [
    "for im in im_list_sel:\n",
    "\n",
    "    print(f'Processing image: {im.name}')\n",
    "\n",
    "    for ch in range(im.channels):\n",
    "\n",
    "        print(f'Processing channel: {ch}')\n",
    "\n",
    "        # that has to be recalculated because m and t are swapped\n",
    "        t_search = 0\n",
    "        m_search = 0\n",
    "\n",
    "        for t in range (im.dims.t):\n",
    "\n",
    "            print(f'Processing frame: {t}')\n",
    "\n",
    "            frame_projections_list = []\n",
    "            if len(additional_frames) > 0:\n",
    "                frame_projection = np.zeros((im.dims.y,im.dims.x),dtype=BIT_DEPTH)\n",
    "                frame_projections_list.append(frame_projection)\n",
    "\n",
    "        \n",
    "            for m in range(im.dims.m):\n",
    "\n",
    "                frame_generator = im.get_iter_z(t = (t_search % im.dims.t), c=ch, m=m_search)\n",
    "\n",
    "                t_search = t_search + 1\n",
    "                m_search = t_search // im.dims.t\n",
    "\n",
    "                frame_stack = np.zeros((im.dims.z,im.dims.y,im.dims.x),dtype=BIT_DEPTH)\n",
    "                z = 0\n",
    "                for frame in frame_generator:\n",
    "                \n",
    "                    frame_stack[z,:,:] = np.array(frame)\n",
    "                    z += 1\n",
    "\n",
    "                frame_projection = np.max(frame_stack,axis=0)\n",
    "\n",
    "                frame_projections_list.append(frame_projection)\n",
    "\n",
    "                if len(additional_frames) > 0:\n",
    "                    if m in additional_frames:\n",
    "                        frame_projection = np.zeros((im.dims.y,im.dims.x),dtype=BIT_DEPTH)\n",
    "                        frame_projections_list.append(frame_projection)           \n",
    "\n",
    "\n",
    "            for ind,frame in enumerate(frame_projections_list):\n",
    "\n",
    "                # save the movie\n",
    "                tile_name = '_'.join(im.name.split('/')[i] for i in NAME_PARTS)\n",
    "                save_path = os.path.join(dir_save,tile_name + '_ch_' + str(ch).zfill(2) + '_m_' + str(ind).zfill(2) + '_t_' + str(t).zfill(3) + '.tif')\n",
    "                imwrite(save_path, frame, imagej=True)"
   ]
  }
 ],
 "metadata": {
  "kernelspec": {
   "display_name": "napari-env",
   "language": "python",
   "name": "python3"
  },
  "language_info": {
   "codemirror_mode": {
    "name": "ipython",
    "version": 3
   },
   "file_extension": ".py",
   "mimetype": "text/x-python",
   "name": "python",
   "nbconvert_exporter": "python",
   "pygments_lexer": "ipython3",
   "version": "3.9.16"
  }
 },
 "nbformat": 4,
 "nbformat_minor": 2
}
