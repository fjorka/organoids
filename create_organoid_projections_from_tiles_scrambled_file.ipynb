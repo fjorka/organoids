{
 "cells": [
  {
   "cell_type": "code",
   "execution_count": 1,
   "metadata": {},
   "outputs": [],
   "source": [
    "from readlif.reader import LifFile\n",
    "import os\n",
    "import numpy as np\n",
    "from tifffile import imwrite\n",
    "import napari"
   ]
  },
  {
   "cell_type": "markdown",
   "metadata": {},
   "source": [
    "### Patways"
   ]
  },
  {
   "cell_type": "code",
   "execution_count": 2,
   "metadata": {},
   "outputs": [],
   "source": [
    "file_path  = r'R:\\Aidan\\ULA timecourse_ARC_004.lif'\n",
    "\n",
    "dir_save = r'R:\\Aidan\\test'\n",
    "\n",
    "# choose bit depth for saving the tiff files\n",
    "BIT_DEPTH = np.uint16\n",
    "\n",
    "# choose True if you want to create small movies for each channel\n",
    "CREATE_SMALL_MOVIES = True\n",
    "SMALL_FACTOR = 4"
   ]
  },
  {
   "cell_type": "markdown",
   "metadata": {},
   "source": [
    "### Look inside the file"
   ]
  },
  {
   "cell_type": "code",
   "execution_count": 3,
   "metadata": {},
   "outputs": [
    {
     "data": {
      "text/plain": [
       "[(0, 'Image1/B2 Region1', Dims(x=2048, y=2048, z=9, t=11, m=21), 2),\n",
       " (1, 'Image1/B3 Region1', Dims(x=2048, y=2048, z=9, t=11, m=21), 2),\n",
       " (2, 'Image1/B4 Region1', Dims(x=2048, y=2048, z=9, t=11, m=21), 2),\n",
       " (3, 'Image1/C2 Region1', Dims(x=2048, y=2048, z=9, t=11, m=21), 2),\n",
       " (4, 'Image1/C3 Region1', Dims(x=2048, y=2048, z=9, t=11, m=21), 2),\n",
       " (5, 'Image1/C4 Region1', Dims(x=2048, y=2048, z=9, t=11, m=21), 2),\n",
       " (6, 'Image1/D2 Region1', Dims(x=2048, y=2048, z=9, t=11, m=21), 2),\n",
       " (7, 'Image1/D3 Region1', Dims(x=2048, y=2048, z=9, t=11, m=21), 2),\n",
       " (8, 'Image1/D4 Region1', Dims(x=2048, y=2048, z=9, t=11, m=21), 2),\n",
       " (9, 'Image1/B2 Region1_Merged', Dims(x=9614, y=9820, z=9, t=11, m=1), 2),\n",
       " (10, 'Image1/B3 Region1_Merged', Dims(x=9449, y=10290, z=9, t=11, m=1), 2),\n",
       " (11, 'Image1/B4 Region1_Merged', Dims(x=9726, y=9483, z=9, t=11, m=1), 2),\n",
       " (12, 'Image1/C2 Region1_Merged', Dims(x=9888, y=9586, z=9, t=11, m=1), 2),\n",
       " (13, 'Image1/C3 Region1_Merged', Dims(x=9322, y=10002, z=9, t=11, m=1), 2),\n",
       " (14, 'Image1/C4 Region1_Merged', Dims(x=9632, y=9779, z=9, t=11, m=1), 2),\n",
       " (15, 'Image1/D2 Region1_Merged', Dims(x=9760, y=9960, z=9, t=11, m=1), 2),\n",
       " (16, 'Image1/D3 Region1_Merged', Dims(x=9853, y=9863, z=9, t=11, m=1), 2),\n",
       " (17, 'Image1/D4 Region1_Merged', Dims(x=9957, y=9829, z=9, t=11, m=1), 2),\n",
       " (18,\n",
       "  'Image1/B2 Region1_Merged_Processed001',\n",
       "  Dims(x=9614, y=9820, z=1, t=11, m=1),\n",
       "  2)]"
      ]
     },
     "execution_count": 3,
     "metadata": {},
     "output_type": "execute_result"
    }
   ],
   "source": [
    "lif_file = LifFile(file_path)\n",
    "\n",
    "im_list = [(ind,x['name'],x['dims'], x['channels']) for ind,x in enumerate(lif_file.image_list)]\n",
    "im_list"
   ]
  },
  {
   "cell_type": "markdown",
   "metadata": {},
   "source": [
    "### Specify files to process"
   ]
  },
  {
   "cell_type": "code",
   "execution_count": 12,
   "metadata": {},
   "outputs": [
    {
     "data": {
      "text/plain": [
       "['LifImage object with dimensions: Dims(x=2048, y=2048, z=9, t=11, m=21)']"
      ]
     },
     "execution_count": 12,
     "metadata": {},
     "output_type": "execute_result"
    }
   ],
   "source": [
    "#sel_ind = range(len(im_list)) # for all available images\n",
    "sel_ind = [0] # for selected images\n",
    "\n",
    "im_list_sel = [lif_file.get_image(ind) for ind in sel_ind]\n",
    "im_list_sel"
   ]
  },
  {
   "cell_type": "markdown",
   "metadata": {},
   "source": [
    "### Process images"
   ]
  },
  {
   "cell_type": "code",
   "execution_count": 13,
   "metadata": {},
   "outputs": [
    {
     "name": "stdout",
     "output_type": "stream",
     "text": [
      "Processing image: Image1/B2 Region1\n",
      "Processing channel: 0\n",
      "Processing frame: 0\n",
      "Processing frame: 1\n",
      "Processing frame: 2\n",
      "Processing frame: 3\n",
      "Processing frame: 4\n",
      "Processing frame: 5\n",
      "Processing frame: 6\n",
      "Processing frame: 7\n",
      "Processing frame: 8\n",
      "Processing frame: 9\n",
      "Processing frame: 10\n",
      "Processing channel: 1\n",
      "Processing frame: 0\n",
      "Processing frame: 1\n",
      "Processing frame: 2\n",
      "Processing frame: 3\n",
      "Processing frame: 4\n",
      "Processing frame: 5\n",
      "Processing frame: 6\n",
      "Processing frame: 7\n",
      "Processing frame: 8\n",
      "Processing frame: 9\n",
      "Processing frame: 10\n"
     ]
    }
   ],
   "source": [
    "for im in im_list_sel:\n",
    "\n",
    "    print(f'Processing image: {im.name}')\n",
    "\n",
    "    for ch in range(im.channels):\n",
    "\n",
    "        print(f'Processing channel: {ch}')\n",
    "\n",
    "        # that has to be recalculated because m and t are swapped\n",
    "        t_search = 0\n",
    "        m_search = 0\n",
    "\n",
    "        for t in range (im.dims.t):\n",
    "\n",
    "            print(f'Processing frame: {t}')\n",
    "\n",
    "\n",
    "            frame_projections_list = []\n",
    "            frame_projection = np.zeros((im.dims.y,im.dims.x),dtype=BIT_DEPTH)\n",
    "            frame_projections_list.append(frame_projection)\n",
    "\n",
    "            additional_frames = [2,17,20]\n",
    "        \n",
    "            for m in range(im.dims.m):\n",
    "\n",
    "                print(m_search)\n",
    "                print(t_search % im.dims.t)\n",
    "\n",
    "                frame_generator = im.get_iter_z(t = (t_search % im.dims.t), c=ch, m=m_search)\n",
    "\n",
    "                t_search = t_search + 1\n",
    "                m_search = t_search // im.dims.t\n",
    "\n",
    "                frame_stack = np.zeros((im.dims.z,im.dims.y,im.dims.x),dtype=BIT_DEPTH)\n",
    "                z = 0\n",
    "                for frame in frame_generator:\n",
    "                \n",
    "                    frame_stack[z,:,:] = np.array(frame)\n",
    "                    z += 1\n",
    "\n",
    "                frame_projection = np.max(frame_stack,axis=0)\n",
    "\n",
    "                frame_projections_list.append(frame_projection)\n",
    "\n",
    "                if m in additional_frames:\n",
    "                    frame_projection = np.zeros((im.dims.y,im.dims.x),dtype=BIT_DEPTH)\n",
    "                    frame_projections_list.append(frame_projection)           \n",
    "\n",
    "\n",
    "            for ind,frame in enumerate(frame_projections_list):\n",
    "\n",
    "                # save the movie\n",
    "                save_path = os.path.join(dir_save,im.name.split('/')[1] + '_ch_' + str(ch).zfill(2) + '_m_' + str(ind).zfill(2) + '_t_' + str(t).zfill(3) + '.tif')\n",
    "                imwrite(save_path, frame, imagej=True)"
   ]
  },
  {
   "cell_type": "code",
   "execution_count": 6,
   "metadata": {},
   "outputs": [
    {
     "data": {
      "text/plain": [
       "'Image1/B2 Region1'"
      ]
     },
     "execution_count": 6,
     "metadata": {},
     "output_type": "execute_result"
    }
   ],
   "source": [
    "im.name"
   ]
  },
  {
   "cell_type": "code",
   "execution_count": null,
   "metadata": {},
   "outputs": [],
   "source": []
  }
 ],
 "metadata": {
  "kernelspec": {
   "display_name": "napari-env",
   "language": "python",
   "name": "python3"
  },
  "language_info": {
   "codemirror_mode": {
    "name": "ipython",
    "version": 3
   },
   "file_extension": ".py",
   "mimetype": "text/x-python",
   "name": "python",
   "nbconvert_exporter": "python",
   "pygments_lexer": "ipython3",
   "version": "3.10.14"
  }
 },
 "nbformat": 4,
 "nbformat_minor": 2
}
