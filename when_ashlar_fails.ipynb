{
 "cells": [
  {
   "cell_type": "code",
   "execution_count": 1,
   "metadata": {},
   "outputs": [],
   "source": [
    "import os\n",
    "import subprocess\n",
    "from tifffile import imread, imwrite\n",
    "import numpy as np"
   ]
  },
  {
   "cell_type": "code",
   "execution_count": 2,
   "metadata": {},
   "outputs": [],
   "source": [
    "input_dir = r'R:\\Aidan\\ULA_timecourse_ARC_006_temp'\n",
    "output_dir = r'R:\\Aidan\\ULA_timecourse_ARC_006_movies'\n",
    "os.makedirs(output_dir, exist_ok=True)\n",
    "\n",
    "BIT_DEPTH = np.uint16\n",
    "CREATE_SMALL_MOVIES = True\n",
    "SMALL_FACTOR = 4"
   ]
  },
  {
   "cell_type": "code",
   "execution_count": 3,
   "metadata": {},
   "outputs": [],
   "source": [
    "#############################################################\n",
    "# specify which images to re-stitch in the brute force way\n",
    "#############################################################\n",
    "\n",
    "im_list = ['0944S']\n",
    "n_rows = 5\n",
    "n_columns = 5"
   ]
  },
  {
   "cell_type": "code",
   "execution_count": 5,
   "metadata": {},
   "outputs": [],
   "source": [
    "def merge_images(img_list, n_rows, n_columns, overlap = 0.1, orientation = 'horizontal', direction = 'snake'):\n",
    "\n",
    "    if orientation == 'horizontal' and direction == 'snake':\n",
    "\n",
    "        if n_rows * n_columns != len(img_list):\n",
    "            raise ValueError('Number of images does not match the number of rows and columns')\n",
    "\n",
    "        # create an empty frame\n",
    "        im_size_row= img_list[0].shape[0] * n_rows - int(overlap * img_list[0].shape[0] * (n_rows - 1))\n",
    "        im_size_col = img_list[0].shape[1] * n_columns - int(overlap * img_list[0].shape[1] * (n_columns - 1))\n",
    "\n",
    "        frame = np.zeros((im_size_row, im_size_col), dtype = img_list[0].dtype)\n",
    "\n",
    "        # populate the frame \n",
    "        for i, img in enumerate(img_list):\n",
    "\n",
    "            row = i // n_columns\n",
    "            col = i % n_columns\n",
    "\n",
    "            if row % 2 != 0:\n",
    "                col = n_columns - col - 1\n",
    "\n",
    "            tile = frame[row * img.shape[0] - int(row * overlap * img.shape[0]):(row + 1) * img.shape[0] - int(row * overlap * img.shape[0]), \n",
    "                    col * img.shape[1] - int(col * overlap * img.shape[1]):(col + 1) * img.shape[1] - int(col * overlap * img.shape[1])]\n",
    "            \n",
    "            tile = np.max(np.array([tile,img]), axis = 0)\n",
    "                \n",
    "            frame[row * img.shape[0] - int(row * overlap * img.shape[0]):(row + 1) * img.shape[0] - int(row * overlap * img.shape[0]), \n",
    "                    col * img.shape[1] - int(col * overlap * img.shape[1]):(col + 1) * img.shape[1] - int(col * overlap * img.shape[1])] = tile  \n",
    "          \n",
    "        return frame\n",
    "\n",
    "    else:\n",
    "        raise ValueError('Only snake direction implemented for now')"
   ]
  },
  {
   "cell_type": "code",
   "execution_count": 6,
   "metadata": {},
   "outputs": [
    {
     "name": "stdout",
     "output_type": "stream",
     "text": [
      "Processing 0944S...\n",
      "Processing channel 00...\n",
      "Processing timepoint 000...\n",
      "Processing timepoint 001...\n",
      "Processing timepoint 002...\n",
      "Processing timepoint 003...\n",
      "Processing timepoint 004...\n",
      "Processing timepoint 005...\n",
      "Processing timepoint 006...\n",
      "Processing timepoint 007...\n",
      "Processing timepoint 008...\n",
      "Processing timepoint 009...\n",
      "Processing timepoint 010...\n",
      "Processing timepoint 011...\n",
      "Processing timepoint 012...\n",
      "Processing timepoint 013...\n",
      "Processing timepoint 014...\n",
      "Processing timepoint 015...\n",
      "Processing timepoint 016...\n",
      "Processing timepoint 017...\n",
      "Processing timepoint 018...\n",
      "Processing timepoint 019...\n",
      "Processing timepoint 020...\n",
      "Processing timepoint 021...\n",
      "Processing timepoint 022...\n",
      "Processing timepoint 023...\n",
      "Processing timepoint 024...\n",
      "Processing timepoint 025...\n",
      "Processing timepoint 026...\n",
      "Processing timepoint 027...\n"
     ]
    },
    {
     "name": "stderr",
     "output_type": "stream",
     "text": [
      "c:\\Users\\KMK280\\AppData\\Local\\anaconda3\\envs\\napari-env\\lib\\site-packages\\tifffile\\tifffile.py:3474: UserWarning: <tifffile.TiffWriter '0944S_ch_00.tif'> truncating ImageJ file\n",
      "  warnings.warn(\n"
     ]
    },
    {
     "name": "stdout",
     "output_type": "stream",
     "text": [
      "Processing channel 01...\n",
      "Processing timepoint 000...\n",
      "Processing timepoint 001...\n",
      "Processing timepoint 002...\n",
      "Processing timepoint 003...\n",
      "Processing timepoint 004...\n",
      "Processing timepoint 005...\n",
      "Processing timepoint 006...\n",
      "Processing timepoint 007...\n",
      "Processing timepoint 008...\n",
      "Processing timepoint 009...\n",
      "Processing timepoint 010...\n",
      "Processing timepoint 011...\n",
      "Processing timepoint 012...\n",
      "Processing timepoint 013...\n",
      "Processing timepoint 014...\n",
      "Processing timepoint 015...\n",
      "Processing timepoint 016...\n",
      "Processing timepoint 017...\n",
      "Processing timepoint 018...\n",
      "Processing timepoint 019...\n",
      "Processing timepoint 020...\n",
      "Processing timepoint 021...\n",
      "Processing timepoint 022...\n",
      "Processing timepoint 023...\n",
      "Processing timepoint 024...\n",
      "Processing timepoint 025...\n",
      "Processing timepoint 026...\n",
      "Processing timepoint 027...\n"
     ]
    },
    {
     "name": "stderr",
     "output_type": "stream",
     "text": [
      "c:\\Users\\KMK280\\AppData\\Local\\anaconda3\\envs\\napari-env\\lib\\site-packages\\tifffile\\tifffile.py:3474: UserWarning: <tifffile.TiffWriter '0944S_ch_01.tif'> truncating ImageJ file\n",
      "  warnings.warn(\n"
     ]
    }
   ],
   "source": [
    "for label in im_list:\n",
    "\n",
    "    print(f'Processing {label}...')\n",
    "\n",
    "    ch_list = set([x.split('_')[2] for x in os.listdir(output_dir) if f'{label}_ch' in x and '_m_' in x])\n",
    "    t_list = sorted(list(set([x.split('_')[6][:-4] for x in os.listdir(output_dir) if f'{label}_ch' in x and '_m_' in x])))\n",
    "\n",
    "    for ch in ch_list:\n",
    "\n",
    "        print(f'Processing channel {ch}...')\n",
    "\n",
    "        merged_im_list = []\n",
    "        for t in t_list:\n",
    "\n",
    "            print(f'Processing timepoint {t}...')\n",
    "\n",
    "            file_list = sorted([x for x in os.listdir(output_dir) if f'{label}_ch_{ch}' in x and f'{t}.tif' in x])\n",
    "            img_list = [imread(os.path.join(output_dir, x)) for x in file_list]\n",
    "\n",
    "            # merge images\n",
    "            frame = merge_images(img_list, n_rows, n_columns)\n",
    "\n",
    "            merged_im_list.append(frame)\n",
    "            \n",
    "        # movie pathway\n",
    "        save_path = os.path.join(output_dir,label + '_ch_' + ch + '.tif')\n",
    "\n",
    "        im_to_save = np.array(merged_im_list).astype(BIT_DEPTH)\n",
    "        imwrite(save_path, im_to_save, imagej=True)\n",
    "\n",
    "        #create a small movie for quick inspection\n",
    "        if CREATE_SMALL_MOVIES:\n",
    "            save_path_small = os.path.join(output_dir,label + '_ch_' + str(ch).zfill(2) + '_small.tif')\n",
    "            imwrite(save_path_small, im_to_save[:,::SMALL_FACTOR,::SMALL_FACTOR], imagej=True)\n"
   ]
  }
 ],
 "metadata": {
  "kernelspec": {
   "display_name": "napari-env",
   "language": "python",
   "name": "python3"
  },
  "language_info": {
   "codemirror_mode": {
    "name": "ipython",
    "version": 3
   },
   "file_extension": ".py",
   "mimetype": "text/x-python",
   "name": "python",
   "nbconvert_exporter": "python",
   "pygments_lexer": "ipython3",
   "version": "3.10.14"
  }
 },
 "nbformat": 4,
 "nbformat_minor": 2
}
