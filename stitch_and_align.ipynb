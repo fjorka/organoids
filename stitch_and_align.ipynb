{
 "cells": [
  {
   "cell_type": "code",
   "execution_count": 8,
   "metadata": {},
   "outputs": [],
   "source": [
    "import os\n",
    "import subprocess\n",
    "from tifffile import imread, imwrite\n",
    "import numpy as np"
   ]
  },
  {
   "cell_type": "code",
   "execution_count": 18,
   "metadata": {},
   "outputs": [],
   "source": [
    "input_dir = r'R:\\Aidan\\test'\n",
    "output_dir = r'R:\\Aidan\\test_output'\n",
    "os.makedirs(output_dir, exist_ok=True)\n",
    "im_list = ['B2_Region1']\n",
    "\n",
    "BIT_DEPTH = np.uint16\n",
    "CREATE_SMALL_MOVIES = True\n",
    "SMALL_FACTOR = 4"
   ]
  },
  {
   "cell_type": "code",
   "execution_count": 3,
   "metadata": {},
   "outputs": [],
   "source": [
    "#rename =  [os.rename(os.path.join(input_dir, filename), os.path.join(input_dir, filename.replace('B2 Region1', 'B2_Region1'))) for filename in os.listdir(input_dir) if 'B2 Region1' in filename]"
   ]
  },
  {
   "cell_type": "code",
   "execution_count": 4,
   "metadata": {},
   "outputs": [],
   "source": [
    "for label in im_list:\n",
    "    \n",
    "    # Construct the file series arguments for all rounds\n",
    "    fileseries_args = [f\"fileseries|{input_dir}|pattern={label}_ch_{{channel:2}}_m_{{series:2}}_t_{str(round_num).zfill(3)}.tif|overlap=0.1|width=5|height=5|layout=snake|pixel_size=0.325\" for round_num in range(11)]\n",
    "\n",
    "    # Create the full command as a list of arguments\n",
    "    command = [\n",
    "        'ashlar',\n",
    "        *fileseries_args,\n",
    "        '--output', f\"{output_dir}\\\\{label}_ashlar_{{cycle:3}}_{{channel:2}}.tif\",\n",
    "        '--maximum-shift', '200',\n",
    "        '--align-channel', '0'\n",
    "    ]\n",
    "\n",
    "    # Execute the command using subprocess\n",
    "    subprocess.run(command)"
   ]
  },
  {
   "cell_type": "code",
   "execution_count": 21,
   "metadata": {},
   "outputs": [
    {
     "name": "stdout",
     "output_type": "stream",
     "text": [
      "['B2_Region1_ashlar_  0_ 0.tif', 'B2_Region1_ashlar_  1_ 0.tif', 'B2_Region1_ashlar_  2_ 0.tif', 'B2_Region1_ashlar_  3_ 0.tif', 'B2_Region1_ashlar_  4_ 0.tif', 'B2_Region1_ashlar_  5_ 0.tif', 'B2_Region1_ashlar_  6_ 0.tif', 'B2_Region1_ashlar_  7_ 0.tif', 'B2_Region1_ashlar_  8_ 0.tif', 'B2_Region1_ashlar_  9_ 0.tif', 'B2_Region1_ashlar_ 10_ 0.tif']\n",
      "['B2_Region1_ashlar_  0_ 1.tif', 'B2_Region1_ashlar_  1_ 1.tif', 'B2_Region1_ashlar_  2_ 1.tif', 'B2_Region1_ashlar_  3_ 1.tif', 'B2_Region1_ashlar_  4_ 1.tif', 'B2_Region1_ashlar_  5_ 1.tif', 'B2_Region1_ashlar_  6_ 1.tif', 'B2_Region1_ashlar_  7_ 1.tif', 'B2_Region1_ashlar_  8_ 1.tif', 'B2_Region1_ashlar_  9_ 1.tif', 'B2_Region1_ashlar_ 10_ 1.tif']\n"
     ]
    }
   ],
   "source": [
    "for label in im_list:\n",
    "\n",
    "    for ch in range(2):\n",
    "\n",
    "        file_list = sorted([x for x in os.listdir(output_dir) if f'{label}_ashlar' in x and f'{ch}.tif' in x])\n",
    "        img_list = [imread(os.path.join(output_dir, x)) for x in file_list]\n",
    "        print(file_list)\n",
    "        \n",
    "        # save the movie\n",
    "        save_path = os.path.join(output_dir,label + '_ch_' + str(ch).zfill(2) + '.tif')\n",
    "\n",
    "        im_to_save = np.array(img_list).astype(BIT_DEPTH)\n",
    "        imwrite(save_path, im_to_save, imagej=True)\n",
    "\n",
    "        #create a small movie for quick inspection\n",
    "        if CREATE_SMALL_MOVIES:\n",
    "            save_path_small = os.path.join(output_dir,label + '_ch_' + str(ch).zfill(2) + '_small.tif')\n",
    "            imwrite(save_path_small, im_to_save[:,::SMALL_FACTOR,::SMALL_FACTOR], imagej=True)\n",
    "\n",
    "        # delete original files\n",
    "        for file in file_list:\n",
    "            os.remove(os.path.join(output_dir, file))\n"
   ]
  },
  {
   "cell_type": "code",
   "execution_count": 14,
   "metadata": {},
   "outputs": [
    {
     "data": {
      "text/plain": [
       "'B2_Region1_ashlar'"
      ]
     },
     "execution_count": 14,
     "metadata": {},
     "output_type": "execute_result"
    }
   ],
   "source": [
    "f'{label}_ashlar'"
   ]
  },
  {
   "cell_type": "code",
   "execution_count": 15,
   "metadata": {},
   "outputs": [
    {
     "data": {
      "text/plain": [
       "'_1.tif'"
      ]
     },
     "execution_count": 15,
     "metadata": {},
     "output_type": "execute_result"
    }
   ],
   "source": [
    "f'_{ch}.tif'"
   ]
  },
  {
   "cell_type": "code",
   "execution_count": null,
   "metadata": {},
   "outputs": [],
   "source": []
  }
 ],
 "metadata": {
  "kernelspec": {
   "display_name": "ashlar-env",
   "language": "python",
   "name": "python3"
  },
  "language_info": {
   "codemirror_mode": {
    "name": "ipython",
    "version": 3
   },
   "file_extension": ".py",
   "mimetype": "text/x-python",
   "name": "python",
   "nbconvert_exporter": "python",
   "pygments_lexer": "ipython3",
   "version": "3.10.15"
  }
 },
 "nbformat": 4,
 "nbformat_minor": 2
}
