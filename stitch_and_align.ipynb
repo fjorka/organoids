{
 "cells": [
  {
   "cell_type": "code",
   "execution_count": 8,
   "metadata": {},
   "outputs": [],
   "source": [
    "import os\n",
    "import subprocess\n",
    "import numpy as np\n",
    "from tifffile import imread,imwrite"
   ]
  },
  {
   "cell_type": "code",
   "execution_count": 2,
   "metadata": {},
   "outputs": [],
   "source": [
    "input_dir = r'R:\\Aidan\\ULA_timecourse_ARC_006_temp'\n",
    "output_dir = r'R:\\Aidan\\ULA_timecourse_ARC_006_movies'\n",
    "os.makedirs(output_dir, exist_ok=True)\n",
    "\n",
    "BIT_DEPTH = np.uint16\n",
    "CREATE_SMALL_MOVIES = True\n",
    "SMALL_FACTOR = 4\n",
    "TIME_POINTS = 28"
   ]
  },
  {
   "cell_type": "code",
   "execution_count": 3,
   "metadata": {},
   "outputs": [
    {
     "data": {
      "text/plain": [
       "['0944S']"
      ]
     },
     "execution_count": 3,
     "metadata": {},
     "output_type": "execute_result"
    }
   ],
   "source": [
    "############################################################################\n",
    "# run this to process all the positions\n",
    "############################################################################\n",
    "\n",
    "im_list = list(set([im.split('_')[0] for im in os.listdir(input_dir)]))\n",
    "im_list\n",
    "\n",
    "############################################################################\n",
    "# uncomment and change im_list if you want to run only on selected images\n",
    "############################################################################\n",
    "#im_list = ['0944S']\n",
    "#im_list"
   ]
  },
  {
   "cell_type": "code",
   "execution_count": 9,
   "metadata": {},
   "outputs": [
    {
     "name": "stdout",
     "output_type": "stream",
     "text": [
      "Processing 0944S.\n"
     ]
    }
   ],
   "source": [
    "# make sure that alignment channel is set to the bright field images\n",
    "# ex. '--align-channel', '1' if bright field is the second channel\n",
    "\n",
    "for label in im_list:\n",
    "\n",
    "    print(f'Processing {label}.')\n",
    "    \n",
    "    # Construct the file series arguments for all rounds\n",
    "    fileseries_args = [f\"fileseries|{input_dir}|pattern={label}_ch_{{channel:2}}_m_{{series:2}}_t_{str(round_num).zfill(3)}.tif|overlap=0.105|width=5|height=5|layout=snake|pixel_size=0.325\" for round_num in range(TIME_POINTS)]\n",
    "\n",
    "    # Create the full command as a list of arguments\n",
    "    command = [\n",
    "        'ashlar',\n",
    "        *fileseries_args,\n",
    "        '--output', f\"{output_dir}\\\\{label}_ashlar_{{cycle:3}}_{{channel:2}}.tif\",\n",
    "        '--maximum-shift', '200',\n",
    "        '--align-channel', '1',\n",
    "    ]\n",
    "\n",
    "    # Execute the command using subprocess\n",
    "    subprocess.run(command)\n",
    "\n",
    "    # #######################################################################################\n",
    "    # # arrange into a stack\n",
    "    # #######################################################################################\n",
    "    \n",
    "    # get channel list\n",
    "    channel_list = list(set([x[-5] for x in os.listdir(output_dir) if f'{label}_ashlar' in x]))\n",
    "\n",
    "    for ch in channel_list:\n",
    "            \n",
    "        frame_name_list = [x for x in os.listdir(output_dir) if ((f'{label}_ashlar' in x) and (f'{ch}.tif' in x))]\n",
    "        frame_name_list.sort()\n",
    "\n",
    "        frame_list = []\n",
    "        for frame in frame_name_list:\n",
    "\n",
    "            frame_path = os.path.join(output_dir,frame)\n",
    "            im = imread(frame_path)\n",
    "\n",
    "            frame_list.append(im)\n",
    "\n",
    "        save_path = os.path.join(output_dir,f'{label}_ch_{ch}.tif')\n",
    "        \n",
    "        im_to_save = np.array(frame_list).astype(BIT_DEPTH)\n",
    "        #imwrite(save_path, im_to_save, imagej=True)\n",
    "\n",
    "        # create a small movie for quick inspection\n",
    "        if CREATE_SMALL_MOVIES:\n",
    "            save_path_small = save_path.replace('.tif','_small.tif')\n",
    "            imwrite(save_path_small, im_to_save[:,::SMALL_FACTOR,::SMALL_FACTOR], imagej=True)"
   ]
  }
 ],
 "metadata": {
  "kernelspec": {
   "display_name": "ashlar-env",
   "language": "python",
   "name": "python3"
  },
  "language_info": {
   "codemirror_mode": {
    "name": "ipython",
    "version": 3
   },
   "file_extension": ".py",
   "mimetype": "text/x-python",
   "name": "python",
   "nbconvert_exporter": "python",
   "pygments_lexer": "ipython3",
   "version": "3.10.15"
  }
 },
 "nbformat": 4,
 "nbformat_minor": 2
}
