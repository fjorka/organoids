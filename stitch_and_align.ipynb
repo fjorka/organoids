{
 "cells": [
  {
   "cell_type": "code",
   "execution_count": 1,
   "metadata": {},
   "outputs": [],
   "source": [
    "import os\n",
    "import subprocess"
   ]
  },
  {
   "cell_type": "code",
   "execution_count": 13,
   "metadata": {},
   "outputs": [],
   "source": [
    "input_dir = r'R:\\Aidan\\test'\n",
    "output_dir = r'R:\\Aidan\\test_output'\n",
    "os.makedirs(output_dir, exist_ok=True)\n",
    "im_list = ['B2_Region1']"
   ]
  },
  {
   "cell_type": "code",
   "execution_count": 12,
   "metadata": {},
   "outputs": [],
   "source": [
    "rename =  [os.rename(os.path.join(input_dir, filename), os.path.join(input_dir, filename.replace('B2 Region1', 'B2_Region1'))) for filename in os.listdir(input_dir) if 'B2 Region1' in filename]"
   ]
  },
  {
   "cell_type": "code",
   "execution_count": 27,
   "metadata": {},
   "outputs": [],
   "source": [
    "for label in im_list:\n",
    "    \n",
    "    # Construct the file series arguments for all rounds\n",
    "    fileseries_args = [f\"fileseries|{input_dir}|pattern={label}_ch_{{channel:2}}_m_{{series:2}}_t_{str(round_num).zfill(3)}.tif|overlap=0.105|width=5|height=5|layout=snake|pixel_size=0.325\" for round_num in range(11)]\n",
    "\n",
    "    # Create the full command as a list of arguments\n",
    "    command = [\n",
    "        'ashlar',\n",
    "        *fileseries_args,\n",
    "        '--output', f\"{output_dir}\\\\{label}_ashlar_{{cycle:3}}_{{channel:2}}.tif\",\n",
    "        '--maximum-shift', '200',\n",
    "        '--align-channel', '0'\n",
    "    ]\n",
    "\n",
    "    # Execute the command using subprocess\n",
    "    subprocess.run(command)"
   ]
  },
  {
   "cell_type": "code",
   "execution_count": 29,
   "metadata": {},
   "outputs": [
    {
     "data": {
      "text/plain": [
       "['ashlar',\n",
       " 'fileseries|R:\\\\Aidan\\\\test|pattern=B2_Region1_ch_{channel:2}_m_{series:2}_t_000.tif|overlap=0.105|width=5|height=5|layout=snake|pixel_size=0.325',\n",
       " 'fileseries|R:\\\\Aidan\\\\test|pattern=B2_Region1_ch_{channel:2}_m_{series:2}_t_001.tif|overlap=0.105|width=5|height=5|layout=snake|pixel_size=0.325',\n",
       " 'fileseries|R:\\\\Aidan\\\\test|pattern=B2_Region1_ch_{channel:2}_m_{series:2}_t_002.tif|overlap=0.105|width=5|height=5|layout=snake|pixel_size=0.325',\n",
       " 'fileseries|R:\\\\Aidan\\\\test|pattern=B2_Region1_ch_{channel:2}_m_{series:2}_t_003.tif|overlap=0.105|width=5|height=5|layout=snake|pixel_size=0.325',\n",
       " 'fileseries|R:\\\\Aidan\\\\test|pattern=B2_Region1_ch_{channel:2}_m_{series:2}_t_004.tif|overlap=0.105|width=5|height=5|layout=snake|pixel_size=0.325',\n",
       " 'fileseries|R:\\\\Aidan\\\\test|pattern=B2_Region1_ch_{channel:2}_m_{series:2}_t_005.tif|overlap=0.105|width=5|height=5|layout=snake|pixel_size=0.325',\n",
       " 'fileseries|R:\\\\Aidan\\\\test|pattern=B2_Region1_ch_{channel:2}_m_{series:2}_t_006.tif|overlap=0.105|width=5|height=5|layout=snake|pixel_size=0.325',\n",
       " 'fileseries|R:\\\\Aidan\\\\test|pattern=B2_Region1_ch_{channel:2}_m_{series:2}_t_007.tif|overlap=0.105|width=5|height=5|layout=snake|pixel_size=0.325',\n",
       " 'fileseries|R:\\\\Aidan\\\\test|pattern=B2_Region1_ch_{channel:2}_m_{series:2}_t_008.tif|overlap=0.105|width=5|height=5|layout=snake|pixel_size=0.325',\n",
       " 'fileseries|R:\\\\Aidan\\\\test|pattern=B2_Region1_ch_{channel:2}_m_{series:2}_t_009.tif|overlap=0.105|width=5|height=5|layout=snake|pixel_size=0.325',\n",
       " 'fileseries|R:\\\\Aidan\\\\test|pattern=B2_Region1_ch_{channel:2}_m_{series:2}_t_010.tif|overlap=0.105|width=5|height=5|layout=snake|pixel_size=0.325',\n",
       " '--output',\n",
       " 'R:\\\\Aidan\\\\test_output\\\\B2_Region1_ashlar_{cycle:3}_{channel:2}.tif',\n",
       " '--maximum-shift',\n",
       " '200',\n",
       " '--align-channel',\n",
       " '0']"
      ]
     },
     "execution_count": 29,
     "metadata": {},
     "output_type": "execute_result"
    }
   ],
   "source": [
    "command"
   ]
  },
  {
   "cell_type": "code",
   "execution_count": 8,
   "metadata": {},
   "outputs": [
    {
     "data": {
      "text/plain": [
       "[]"
      ]
     },
     "execution_count": 8,
     "metadata": {},
     "output_type": "execute_result"
    }
   ],
   "source": [
    "im_list"
   ]
  },
  {
   "cell_type": "code",
   "execution_count": null,
   "metadata": {},
   "outputs": [],
   "source": []
  }
 ],
 "metadata": {
  "kernelspec": {
   "display_name": "ashlar-env",
   "language": "python",
   "name": "python3"
  },
  "language_info": {
   "codemirror_mode": {
    "name": "ipython",
    "version": 3
   },
   "file_extension": ".py",
   "mimetype": "text/x-python",
   "name": "python",
   "nbconvert_exporter": "python",
   "pygments_lexer": "ipython3",
   "version": "3.10.15"
  }
 },
 "nbformat": 4,
 "nbformat_minor": 2
}
