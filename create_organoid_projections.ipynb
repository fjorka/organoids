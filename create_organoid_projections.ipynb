{
 "cells": [
  {
   "cell_type": "code",
   "execution_count": 1,
   "metadata": {},
   "outputs": [],
   "source": [
    "from readlif.reader import LifFile\n",
    "import os\n",
    "import numpy as np\n",
    "from tifffile import imwrite\n",
    "import napari"
   ]
  },
  {
   "cell_type": "markdown",
   "metadata": {},
   "source": [
    "### Patways"
   ]
  },
  {
   "cell_type": "code",
   "execution_count": 2,
   "metadata": {},
   "outputs": [],
   "source": [
    "file_path  = r'R:\\Aidan\\ULA Timecourse_ARC _004_merged.lif'\n",
    "\n",
    "dir_save = r'R:\\Aidan\\240910_tiff_movies'"
   ]
  },
  {
   "cell_type": "markdown",
   "metadata": {},
   "source": [
    "### Look inside the file"
   ]
  },
  {
   "cell_type": "code",
   "execution_count": 3,
   "metadata": {},
   "outputs": [
    {
     "data": {
      "text/plain": [
       "[(0, 'B3 Region1_Merged', Dims(x=9449, y=10290, z=9, t=11, m=1), 2),\n",
       " (1, 'B4 Region1_Merged', Dims(x=9726, y=9483, z=9, t=11, m=1), 2),\n",
       " (2, 'C2 Region1_Merged', Dims(x=9888, y=9586, z=9, t=11, m=1), 2),\n",
       " (3, 'C3 Region1_Merged', Dims(x=9322, y=10002, z=9, t=11, m=1), 2),\n",
       " (4, 'C4 Region1_Merged', Dims(x=9632, y=9779, z=9, t=11, m=1), 2),\n",
       " (5, 'D2 Region1_Merged', Dims(x=9760, y=9960, z=9, t=11, m=1), 2),\n",
       " (6, 'D3 Region1_Merged', Dims(x=9853, y=9863, z=9, t=11, m=1), 2),\n",
       " (7, 'D4 Region1_Merged', Dims(x=9957, y=9829, z=9, t=11, m=1), 2),\n",
       " (8,\n",
       "  'B2 Region1_Merged_Processed001',\n",
       "  Dims(x=9614, y=9820, z=1, t=11, m=1),\n",
       "  2),\n",
       " (9,\n",
       "  'B4 Region1_Merged_Processed001',\n",
       "  Dims(x=9726, y=9483, z=1, t=11, m=1),\n",
       "  2),\n",
       " (10,\n",
       "  'C2 Region1_Merged_Processed001',\n",
       "  Dims(x=9888, y=9586, z=1, t=11, m=1),\n",
       "  2),\n",
       " (11,\n",
       "  'C3 Region1_Merged_Processed001',\n",
       "  Dims(x=9322, y=10002, z=1, t=11, m=1),\n",
       "  2),\n",
       " (12,\n",
       "  'C4 Region1_Merged_Processed001',\n",
       "  Dims(x=9632, y=9779, z=1, t=11, m=1),\n",
       "  2),\n",
       " (13,\n",
       "  'D3 Region1_Merged_Processed001',\n",
       "  Dims(x=9760, y=9960, z=1, t=11, m=1),\n",
       "  2),\n",
       " (14,\n",
       "  'D2 Region1_Merged_Processed001',\n",
       "  Dims(x=9760, y=9960, z=1, t=11, m=1),\n",
       "  2),\n",
       " (15,\n",
       "  'D4 Region1_Merged_Processed001',\n",
       "  Dims(x=9957, y=9829, z=1, t=11, m=1),\n",
       "  2),\n",
       " (16,\n",
       "  'B3 Region1_Merged_Processed001',\n",
       "  Dims(x=9449, y=10290, z=1, t=11, m=1),\n",
       "  2)]"
      ]
     },
     "execution_count": 3,
     "metadata": {},
     "output_type": "execute_result"
    }
   ],
   "source": [
    "lif_file = LifFile(file_path)\n",
    "\n",
    "im_list = [(ind,x['name'],x['dims'], x['channels']) for ind,x in enumerate(lif_file.image_list)]\n",
    "im_list"
   ]
  },
  {
   "cell_type": "markdown",
   "metadata": {},
   "source": [
    "### Specify files to process"
   ]
  },
  {
   "cell_type": "code",
   "execution_count": 4,
   "metadata": {},
   "outputs": [
    {
     "data": {
      "text/plain": [
       "['LifImage object with dimensions: Dims(x=9449, y=10290, z=9, t=11, m=1)']"
      ]
     },
     "execution_count": 4,
     "metadata": {},
     "output_type": "execute_result"
    }
   ],
   "source": [
    "#sel_ind = range(len(im_list)) # for all available images\n",
    "sel_ind = [0] # for selected images\n",
    "\n",
    "im_list_sel = [lif_file.get_image(ind) for ind in sel_ind]\n",
    "im_list_sel"
   ]
  },
  {
   "cell_type": "markdown",
   "metadata": {},
   "source": [
    "### Process images"
   ]
  },
  {
   "cell_type": "code",
   "execution_count": 6,
   "metadata": {},
   "outputs": [],
   "source": [
    "for im in im_list_sel:\n",
    "\n",
    "    print(f'Processing image: {im.name}')\n",
    "\n",
    "    for ch in range(im.channels):\n",
    "\n",
    "        print(f'Processing channel: {ch}')\n",
    "\n",
    "        # empty list to collect frames\n",
    "        frame_list = []\n",
    "\n",
    "        for t in range (im.dims.t):\n",
    "\n",
    "            print(f'Processing frame: {t}')\n",
    "\n",
    "            frame_generator = im.get_iter_z(t=t, c=ch)\n",
    "\n",
    "            frame_stack = np.zeros((im.dims.z,im.dims.y,im.dims.x),dtype=np.uint16)\n",
    "            z = 0\n",
    "            for frame in frame_generator:\n",
    "                \n",
    "                frame_stack[z,:,:] = np.array(frame)\n",
    "                z += 1\n",
    "\n",
    "            frame_projection = np.max(frame_stack,axis=0)\n",
    "\n",
    "            frame_list.append(frame_projection)\n",
    "\n",
    "        # save the movie\n",
    "        save_path = os.path.join(dir_save,im.name + '_ch_' + str(ch).zfill(2) + '.tif')\n",
    "\n",
    "        imwrite(save_path, np.array(frame_list).astype('uint16'), imagej=True)"
   ]
  }
 ],
 "metadata": {
  "kernelspec": {
   "display_name": "napari-env2",
   "language": "python",
   "name": "python3"
  },
  "language_info": {
   "codemirror_mode": {
    "name": "ipython",
    "version": 3
   },
   "file_extension": ".py",
   "mimetype": "text/x-python",
   "name": "python",
   "nbconvert_exporter": "python",
   "pygments_lexer": "ipython3",
   "version": "3.10.14"
  }
 },
 "nbformat": 4,
 "nbformat_minor": 2
}
