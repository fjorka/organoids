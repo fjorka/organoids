{
 "cells": [
  {
   "cell_type": "code",
   "execution_count": 1,
   "metadata": {},
   "outputs": [],
   "source": [
    "from readlif.reader import LifFile\n",
    "import os\n",
    "import numpy as np\n",
    "from tifffile import imwrite\n",
    "import napari"
   ]
  },
  {
   "cell_type": "markdown",
   "metadata": {},
   "source": [
    "### Patways"
   ]
  },
  {
   "cell_type": "code",
   "execution_count": 12,
   "metadata": {},
   "outputs": [],
   "source": [
    "file_path  = r'R:\\Aidan\\ULA timelapse_ARC_007.lif'\n",
    "\n",
    "dir_save = r'R:\\Aidan\\ULA_timelapse_ARC_007_processed'\n",
    "\n",
    "os.makedirs(dir_save,exist_ok=True)\n",
    "\n",
    "# choose bit depth for saving the tiff files\n",
    "BIT_DEPTH = np.uint16\n",
    "\n",
    "# choose True if you want to create small movies for each channel\n",
    "CREATE_SMALL_MOVIES = True\n",
    "SMALL_FACTOR = 4"
   ]
  },
  {
   "cell_type": "markdown",
   "metadata": {},
   "source": [
    "### Look inside the file"
   ]
  },
  {
   "cell_type": "code",
   "execution_count": 5,
   "metadata": {},
   "outputs": [
    {
     "data": {
      "text/plain": [
       "[(0, 'TileScan 2/0944P_Merged', Dims(x=9744, y=9715, z=11, t=50, m=1), 2),\n",
       " (1, 'TileScan 2/1340P_Merged', Dims(x=9666, y=9817, z=11, t=50, m=1), 2),\n",
       " (2, 'TileScan 2/1341P_Merged', Dims(x=9583, y=9342, z=11, t=50, m=1), 2),\n",
       " (3, 'TileScan 2/0944S_Merged', Dims(x=9524, y=9791, z=11, t=50, m=1), 2),\n",
       " (4, 'TileScan 2/1340S_Merged', Dims(x=9606, y=9661, z=11, t=50, m=1), 2),\n",
       " (5, 'TileScan 2/1341S_Merged', Dims(x=10083, y=9675, z=11, t=50, m=1), 2)]"
      ]
     },
     "execution_count": 5,
     "metadata": {},
     "output_type": "execute_result"
    }
   ],
   "source": [
    "lif_file = LifFile(file_path)\n",
    "\n",
    "im_list = [(ind,x['name'],x['dims'], x['channels']) for ind,x in enumerate(lif_file.image_list)]\n",
    "im_list"
   ]
  },
  {
   "cell_type": "markdown",
   "metadata": {},
   "source": [
    "### Specify files to process"
   ]
  },
  {
   "cell_type": "code",
   "execution_count": 6,
   "metadata": {},
   "outputs": [
    {
     "data": {
      "text/plain": [
       "['LifImage object with dimensions: Dims(x=9744, y=9715, z=11, t=50, m=1)']"
      ]
     },
     "execution_count": 6,
     "metadata": {},
     "output_type": "execute_result"
    }
   ],
   "source": [
    "#sel_ind = range(len(im_list)) # for all available images\n",
    "sel_ind = [0] # for selected images\n",
    "\n",
    "im_list_sel = [lif_file.get_image(ind) for ind in sel_ind]\n",
    "im_list_sel"
   ]
  },
  {
   "cell_type": "markdown",
   "metadata": {},
   "source": [
    "### Process images"
   ]
  },
  {
   "cell_type": "code",
   "execution_count": 15,
   "metadata": {},
   "outputs": [
    {
     "name": "stdout",
     "output_type": "stream",
     "text": [
      "Processing image: TileScan 2/0944P_Merged\n",
      "Processing channel: 0\n",
      "Processing frame: 0\n",
      "Processing frame: 1\n",
      "Processing frame: 2\n",
      "Processing frame: 3\n",
      "Processing frame: 4\n",
      "Processing frame: 5\n",
      "Processing frame: 6\n",
      "Processing frame: 7\n",
      "Processing frame: 8\n",
      "Processing frame: 9\n",
      "Processing frame: 10\n",
      "Processing frame: 11\n",
      "Processing frame: 12\n",
      "Processing frame: 13\n",
      "Processing frame: 14\n",
      "Processing frame: 15\n",
      "Processing frame: 16\n",
      "Processing frame: 17\n",
      "Processing frame: 18\n",
      "Processing frame: 19\n",
      "Processing frame: 20\n",
      "Processing frame: 21\n",
      "Processing frame: 22\n",
      "Processing frame: 23\n",
      "Processing frame: 24\n",
      "Processing frame: 25\n",
      "Processing frame: 26\n",
      "Processing frame: 27\n",
      "Processing frame: 28\n",
      "Processing frame: 29\n",
      "Processing frame: 30\n",
      "Processing frame: 31\n",
      "Processing frame: 32\n",
      "Processing frame: 33\n",
      "Processing frame: 34\n",
      "Processing frame: 35\n",
      "Processing frame: 36\n",
      "Processing frame: 37\n",
      "Processing frame: 38\n",
      "Processing frame: 39\n",
      "Processing frame: 40\n",
      "Processing frame: 41\n",
      "Processing frame: 42\n",
      "Processing frame: 43\n",
      "Processing frame: 44\n",
      "Processing frame: 45\n",
      "Processing frame: 46\n",
      "Processing frame: 47\n",
      "Processing frame: 48\n",
      "Processing frame: 49\n"
     ]
    },
    {
     "name": "stderr",
     "output_type": "stream",
     "text": [
      "c:\\Users\\Stallab.PITT\\.conda\\envs\\napari-env\\lib\\site-packages\\tifffile\\tifffile.py:3543: UserWarning: <tifffile.TiffWriter '0944P_Merged_ch_00.tif'> truncating ImageJ file\n",
      "  warnings.warn(\n"
     ]
    },
    {
     "name": "stdout",
     "output_type": "stream",
     "text": [
      "Processing channel: 1\n",
      "Processing frame: 0\n",
      "Processing frame: 1\n",
      "Processing frame: 2\n",
      "Processing frame: 3\n",
      "Processing frame: 4\n",
      "Processing frame: 5\n",
      "Processing frame: 6\n",
      "Processing frame: 7\n",
      "Processing frame: 8\n",
      "Processing frame: 9\n",
      "Processing frame: 10\n",
      "Processing frame: 11\n",
      "Processing frame: 12\n",
      "Processing frame: 13\n",
      "Processing frame: 14\n",
      "Processing frame: 15\n",
      "Processing frame: 16\n",
      "Processing frame: 17\n",
      "Processing frame: 18\n",
      "Processing frame: 19\n",
      "Processing frame: 20\n",
      "Processing frame: 21\n",
      "Processing frame: 22\n",
      "Processing frame: 23\n",
      "Processing frame: 24\n",
      "Processing frame: 25\n",
      "Processing frame: 26\n",
      "Processing frame: 27\n",
      "Processing frame: 28\n",
      "Processing frame: 29\n",
      "Processing frame: 30\n",
      "Processing frame: 31\n",
      "Processing frame: 32\n",
      "Processing frame: 33\n",
      "Processing frame: 34\n",
      "Processing frame: 35\n",
      "Processing frame: 36\n",
      "Processing frame: 37\n",
      "Processing frame: 38\n",
      "Processing frame: 39\n",
      "Processing frame: 40\n",
      "Processing frame: 41\n",
      "Processing frame: 42\n",
      "Processing frame: 43\n",
      "Processing frame: 44\n",
      "Processing frame: 45\n",
      "Processing frame: 46\n",
      "Processing frame: 47\n",
      "Processing frame: 48\n",
      "Processing frame: 49\n"
     ]
    },
    {
     "name": "stderr",
     "output_type": "stream",
     "text": [
      "c:\\Users\\Stallab.PITT\\.conda\\envs\\napari-env\\lib\\site-packages\\tifffile\\tifffile.py:3543: UserWarning: <tifffile.TiffWriter '0944P_Merged_ch_01.tif'> truncating ImageJ file\n",
      "  warnings.warn(\n"
     ]
    }
   ],
   "source": [
    "for im in im_list_sel:\n",
    "\n",
    "    print(f'Processing image: {im.name}')\n",
    "\n",
    "    for ch in range(im.channels):\n",
    "\n",
    "        print(f'Processing channel: {ch}')\n",
    "\n",
    "        # empty list to collect frames\n",
    "        frame_list = []\n",
    "\n",
    "        for t in range (im.dims.t):\n",
    "\n",
    "            print(f'Processing frame: {t}')\n",
    "\n",
    "            frame_generator = im.get_iter_z(t=t, c=ch)\n",
    "\n",
    "            frame_stack = np.zeros((im.dims.z,im.dims.y,im.dims.x),dtype=BIT_DEPTH)\n",
    "            z = 0\n",
    "            for frame in frame_generator:\n",
    "                \n",
    "                frame_stack[z,:,:] = np.array(frame)\n",
    "                z += 1\n",
    "\n",
    "            frame_projection = np.max(frame_stack,axis=0)\n",
    "\n",
    "            frame_list.append(frame_projection)\n",
    "\n",
    "        # save the movie\n",
    "        save_path = os.path.join(dir_save,im.name.split('/')[1] + '_ch_' + str(ch).zfill(2) + '.tif')\n",
    "\n",
    "        im_to_save = np.array(frame_list).astype(BIT_DEPTH)\n",
    "        imwrite(save_path, im_to_save, imagej=True)\n",
    "\n",
    "        # create a small movie for quick inspection\n",
    "        if CREATE_SMALL_MOVIES:\n",
    "            save_path_small = os.path.join(dir_save,im.name.split('/')[1] + '_ch_' + str(ch).zfill(2) + '_small.tif')\n",
    "            imwrite(save_path_small, im_to_save[:,::SMALL_FACTOR,::SMALL_FACTOR], imagej=True)"
   ]
  },
  {
   "cell_type": "code",
   "execution_count": null,
   "metadata": {},
   "outputs": [],
   "source": []
  }
 ],
 "metadata": {
  "kernelspec": {
   "display_name": "napari-env",
   "language": "python",
   "name": "python3"
  },
  "language_info": {
   "codemirror_mode": {
    "name": "ipython",
    "version": 3
   },
   "file_extension": ".py",
   "mimetype": "text/x-python",
   "name": "python",
   "nbconvert_exporter": "python",
   "pygments_lexer": "ipython3",
   "version": "3.9.16"
  }
 },
 "nbformat": 4,
 "nbformat_minor": 2
}
